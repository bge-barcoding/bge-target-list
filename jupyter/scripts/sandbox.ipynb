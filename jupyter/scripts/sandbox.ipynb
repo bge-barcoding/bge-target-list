{
 "cells": [
  {
   "cell_type": "code",
   "execution_count": 1,
   "id": "dc1c1cce-8131-42a6-bf31-c5ac8913f364",
   "metadata": {},
   "outputs": [],
   "source": [
    "import sys\n",
    "sys.path.insert(0,'/home/jovyan/work/src/')\n",
    "from sqlalchemy import create_engine, MetaData, select\n",
    "from sqlalchemy.orm import sessionmaker\n",
    "from arise.barcode.metadata.orm.barcode import Barcode\n",
    "from arise.barcode.metadata.orm.marker import Marker\n",
    "from arise.barcode.metadata.orm.nsr_species import NsrSpecies\n",
    "from arise.barcode.metadata.orm.nsr_synonym import NsrSynonym\n",
    "from arise.barcode.metadata.orm.nsr_node import NsrNode\n",
    "from arise.barcode.metadata.orm.specimen import Specimen\n",
    "import seaborn as sb\n",
    "import matplotlib.pyplot as plt\n",
    "import pandas as pd\n",
    "from ete3 import Tree, TreeStyle\n",
    "import os\n",
    "from ipywidgets import IntProgress\n",
    "from IPython.display import display\n",
    "\n",
    "os.environ['QT_QPA_PLATFORM']='offscreen'  # to avoid to kill the kernel using ete render\n",
    "os.environ['XDG_RUNTIME_DIR']='/tmp/runtime-jovyan'"
   ]
  },
  {
   "cell_type": "code",
   "execution_count": 2,
   "id": "3ea787d5-ea81-44f2-bd35-251d31ed4883",
   "metadata": {},
   "outputs": [],
   "source": [
    "engine = create_engine('sqlite:////home/jovyan/work/data/sqlite/arise-barcode-metadata.db', echo=False)\n",
    "\n",
    "# make session\n",
    "Session = sessionmaker(engine)\n",
    "session = Session()"
   ]
  },
  {
   "cell_type": "code",
   "execution_count": 3,
   "id": "ff3ca5fd-af94-4ee5-8403-3a8a15a18771",
   "metadata": {},
   "outputs": [
    {
     "name": "stdout",
     "output_type": "stream",
     "text": [
      "All of life\n"
     ]
    }
   ],
   "source": [
    "# here we go and traverse the tree from the root\n",
    "nsr_root = NsrNode.get_root(session)\n",
    "print(nsr_root.name)"
   ]
  },
  {
   "cell_type": "code",
   "execution_count": 4,
   "id": "b4f4d6bc-9112-4cf5-98fd-475d6fe9bc6a",
   "metadata": {},
   "outputs": [
    {
     "name": "stdout",
     "output_type": "stream",
     "text": [
      "tree2.get_children() 1\n",
      "tree2.get_descendants() 9222\n",
      "Counter({'order': 4221, 'class': 2025, 'phylum': 1530, 'kingdom': 1440, None: 6})\n",
      "tree2.get_descendants() family 0\n",
      "(NsrNode.rank == family).count() 4268\n",
      "SELECT specimen.specimen_id AS specimen_specimen_id, barcode.barcode_id AS barcode_barcode_id, specimen.species_id AS specimen_species_id \n",
      "FROM specimen JOIN barcode ON specimen.specimen_id = barcode.specimen_id\n",
      "{'specimens': {677: {682}, 956: {963}, 1222: {1235, 1236}, 1863: {1884, 1885}, 13536: {13666}, 20210: {20437}, 22094: {22340}, 26356: {26663}, 27731: {28063}, 28189: {28525}, 31089: {31450}, 36116: {36529}, 42646: {43128}, 42919: {43401}, 44135: {44637}, 44385: {44889}, 44465: {44969}, 45399: {45921}, 46683: {47216}, 52675: {53285}, 57150: {57834}, 58686: {59390}, 61170: {61918}, 63527: {64314}, 65782: {66597}, 70994: {71859}, 78599: {79555}, 83526: {84534}, 90757: {91872}, 92617: {93759}, 95726: {96900}, 99348: {100560}, 101010: {102240}, 105078: {106356}, 116417: {117869}, 117922: {119401}, 118593: {120078}, 120297: {121822}}, 'barcodes_count': 40}\n",
      "ete_root2.total_sp 0\n",
      "ete_root2.total_bc 0\n"
     ]
    }
   ],
   "source": [
    "\n",
    "tree2 = Tree()\n",
    "ete_root2 = tree2.add_child(name = nsr_root.name)\n",
    "ete_root2.add_feature('rank','life')\n",
    "\n",
    "tree2 = nsr_root.to_ete(session, 'family')\n",
    "print('tree2.get_children()', len(tree2.get_children()))\n",
    "descendants = tree2.get_descendants()\n",
    "print('tree2.get_descendants()', len(descendants))\n",
    "from collections import Counter\n",
    "print(Counter([e.rank for e in descendants]))\n",
    "print('tree2.get_descendants() family', len([e for e in tree2.get_descendants() if e.rank == 'family'])) # why not 4268?\n",
    "print('(NsrNode.rank == family).count()', session.query(NsrNode).filter(NsrNode.rank == 'family').count()) # 4268\n",
    "\n",
    "\n",
    "\n",
    "# debuging\n",
    "query = session.query(Specimen.specimen_id, Barcode.barcode_id, Specimen.species_id).join(Barcode)\n",
    "print(query)\n",
    "d2 = {}\n",
    "for specimen_id, barcode_id, species_id in query.all():\n",
    "    if species_id not in d2:\n",
    "        d2[species_id] = { 'specimens': {}, 'barcodes_count': 0 }\n",
    "    if specimen_id not in d2[species_id]['specimens']:\n",
    "        d2[species_id]['specimens'][specimen_id] = set()\n",
    "    if barcode_id not in d2[species_id]['specimens'][specimen_id]:\n",
    "        d2[species_id]['specimens'][specimen_id].add(barcode_id)\n",
    "        d2[species_id]['barcodes_count'] += 1\n",
    "        # if (len(d2[species_id]['specimens']) > 1 and len(d2[species_id]['specimens'][specimen_id]) > 1):\n",
    "        #     print(species_id)\n",
    "        #     break\n",
    "\n",
    "print(d2[25384])\n",
    "\n",
    "from sqlalchemy import func\n",
    "# prefetch number of barcodes per species_id\n",
    "query = session.query(Specimen.species_id, func.count()).join(Barcode).group_by(Specimen.species_id)\n",
    "# print(query)\n",
    "species_bc_dict = { e:c for e, c in query.all() }\n",
    "# print(species_bc_dict[25384])\n",
    "\n",
    "\n",
    "all_bc = 0\n",
    "for node in tree2.iter_descendants(strategy='postorder'):\n",
    "    if node.rank == 'family':\n",
    "        tips = session.query(NsrNode).filter(NsrNode.id == node.id).first().get_descendants(session).all()\n",
    "        total_bc = 0\n",
    "        for tip in tips:\n",
    "            if tip.species_id and tip.species_id in species_bc_dict:\n",
    "                total_bc += species_bc_dict[tip.species_id]\n",
    "        node.add_feature('total_sp', len(tips))\n",
    "        node.add_feature('total_bc', total_bc)   \n",
    "        all_bc += total_bc\n",
    "    else:\n",
    "        total_sp = 0\n",
    "        total_bc = 0\n",
    "        for child in node.get_children():\n",
    "            total_sp += child.total_sp\n",
    "            total_bc += child.total_bc\n",
    "        node.add_feature('total_sp', total_sp)\n",
    "        node.add_feature('total_bc', total_bc)   \n",
    "\n",
    "\n",
    "ete_root2 = tree2.get_tree_root().get_children()[0]\n",
    "print('ete_root2.total_sp', ete_root2.total_sp)\n",
    "print('ete_root2.total_bc', ete_root2.total_bc) # why not 128195 = # of barcodes in db"
   ]
  },
  {
   "cell_type": "code",
   "execution_count": null,
   "id": "a571c8d0-5ae8-45bd-a46f-5a864d7cb9b3",
   "metadata": {},
   "outputs": [],
   "source": []
  },
  {
   "cell_type": "code",
   "execution_count": null,
   "id": "112e7a4b-8765-40b0-a29e-492fb2079d8c",
   "metadata": {},
   "outputs": [],
   "source": []
  }
 ],
 "metadata": {
  "kernelspec": {
   "display_name": "Python 3 (ipykernel)",
   "language": "python",
   "name": "python3"
  },
  "language_info": {
   "codemirror_mode": {
    "name": "ipython",
    "version": 3
   },
   "file_extension": ".py",
   "mimetype": "text/x-python",
   "name": "python",
   "nbconvert_exporter": "python",
   "pygments_lexer": "ipython3",
   "version": "3.9.12"
  }
 },
 "nbformat": 4,
 "nbformat_minor": 5
}
